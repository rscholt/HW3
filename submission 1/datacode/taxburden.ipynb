{
 "cells": [
  {
   "cell_type": "code",
   "execution_count": 50,
   "metadata": {},
   "outputs": [
    {
     "name": "stderr",
     "output_type": "stream",
     "text": [
      "/Users/ryanscholte/anaconda3/lib/python3.10/site-packages/openpyxl/styles/stylesheet.py:237: UserWarning: Workbook contains no default style, apply openpyxl's default\n",
      "  warn(\"Workbook contains no default style, apply openpyxl's default\")\n"
     ]
    }
   ],
   "source": [
    "import pandas as pd\n",
    "import numpy as np\n",
    "\n",
    "# Load data\n",
    "cig_data = pd.read_csv(\"/Users/ryanscholte/Desktop/GitHub/HW3/data/input/The_Tax_Burden_on_Tobacco__1970-2019.csv\")\n",
    "cpi_data = pd.read_excel(\"/Users/ryanscholte/Desktop/GitHub/HW3/data/input/SeriesReport-20250226085315_38a6dd.xlsx\", skiprows=11)\n",
    "\n"
   ]
  },
  {
   "cell_type": "code",
   "execution_count": 51,
   "metadata": {},
   "outputs": [
    {
     "name": "stdout",
     "output_type": "stream",
     "text": [
      "Columns in cig_data: Index(['LocationAbbr', 'LocationDesc', 'Year', 'Datasource', 'TopicDesc',\n",
      "       'MeasureDesc', 'SubMeasureDesc', 'Data_Value', 'Data_Value_Unit',\n",
      "       'Data_Value_Type', 'GeoLocation', 'Source', 'TopicTypeId', 'TopicId',\n",
      "       'MeasureId', 'SubMeasureID', 'SubMeasureIdDisplayOrder'],\n",
      "      dtype='object')\n"
     ]
    }
   ],
   "source": [
    "print(\"Columns in cig_data:\", cig_data.columns)"
   ]
  },
  {
   "cell_type": "code",
   "execution_count": 52,
   "metadata": {},
   "outputs": [],
   "source": [
    "\n",
    "# Clean tobacco data\n",
    "cig_data[\"measure\"] = cig_data[\"SubMeasureDesc\"].map({\n",
    "    \"Average Cost per pack\": \"cost_per_pack\",\n",
    "    \"Cigarette Consumption (Pack Sales Per Capita)\": \"sales_per_capita\",\n",
    "    \"Federal and State tax as a Percentage of Retail Price\": \"tax_percent\",\n",
    "    \"Federal and State Tax per pack\": \"tax_dollar\",\n",
    "    \"Gross Cigarette Tax Revenue\": \"tax_revenue\",\n",
    "    \"State Tax per pack\": \"tax_state\"\n",
    "})"
   ]
  },
  {
   "cell_type": "code",
   "execution_count": 53,
   "metadata": {},
   "outputs": [],
   "source": [
    "cig_data = cig_data.rename(columns={\n",
    "    \"LocationAbbr\": \"state_abb\", \n",
    "    \"LocationDesc\": \"state\", \n",
    "    \"Data_Value\": \"value\"\n",
    "})\n",
    "cig_data = cig_data[[\"state_abb\", \"state\", \"Year\", \"value\", \"measure\"]]\n"
   ]
  },
  {
   "cell_type": "code",
   "execution_count": 54,
   "metadata": {},
   "outputs": [],
   "source": [
    "# Pivot data\n",
    "final_data = cig_data.pivot(index=[\"state\", \"Year\"], columns=\"measure\", values=\"value\").reset_index()\n",
    "final_data = final_data.sort_values(by=[\"state\", \"Year\"])"
   ]
  },
  {
   "cell_type": "code",
   "execution_count": 55,
   "metadata": {},
   "outputs": [],
   "source": [
    "# Clean CPI data\n",
    "cpi_data = cpi_data.melt(id_vars=[\"Year\"], \n",
    "                          value_vars=[\"Jan\", \"Feb\", \"Mar\", \"Apr\", \"May\", \"Jun\", \"Jul\", \"Aug\", \"Sep\", \"Oct\", \"Nov\", \"Dec\"],\n",
    "                          var_name=\"month\", \n",
    "                          value_name=\"index\")\n",
    "\n",
    "cpi_data = cpi_data.groupby(\"Year\", as_index=False).agg({\"index\": \"mean\"})"
   ]
  },
  {
   "cell_type": "code",
   "execution_count": 56,
   "metadata": {},
   "outputs": [
    {
     "name": "stdout",
     "output_type": "stream",
     "text": [
      "Index(['Year', 'index'], dtype='object')\n"
     ]
    }
   ],
   "source": [
    "print(cpi_data.columns)"
   ]
  },
  {
   "cell_type": "code",
   "execution_count": 57,
   "metadata": {},
   "outputs": [],
   "source": [
    "# Adjust to 2012 dollars\n",
    "final_data = final_data.merge(cpi_data, on=\"Year\", how=\"left\")\n",
    "cpi_2012 = cpi_data.loc[cpi_data['Year'] == 2012, 'index'].iloc[0]\n",
    "final_data[\"price_cpi\"] = final_data[\"cost_per_pack\"] * (cpi_2012 / final_data[\"index\"])\n",
    "final_data[\"tax_2012\"] = final_data[\"tax_state\"] * (cpi_2012 / final_data[\"index\"])\n"
   ]
  },
  {
   "cell_type": "code",
   "execution_count": 58,
   "metadata": {},
   "outputs": [],
   "source": [
    "final_data.to_csv(\"/Users/ryanscholte/Desktop/GitHub/HW3/data/output/tax_data.csv\")"
   ]
  }
 ],
 "metadata": {
  "kernelspec": {
   "display_name": "base",
   "language": "python",
   "name": "python3"
  },
  "language_info": {
   "codemirror_mode": {
    "name": "ipython",
    "version": 3
   },
   "file_extension": ".py",
   "mimetype": "text/x-python",
   "name": "python",
   "nbconvert_exporter": "python",
   "pygments_lexer": "ipython3",
   "version": "3.10.16"
  }
 },
 "nbformat": 4,
 "nbformat_minor": 2
}
